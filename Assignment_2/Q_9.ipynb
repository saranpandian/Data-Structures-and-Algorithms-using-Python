{
 "cells": [
  {
   "cell_type": "markdown",
   "metadata": {},
   "source": [
    "# HASHING BY CHAINING"
   ]
  },
  {
   "cell_type": "code",
   "execution_count": 1,
   "metadata": {},
   "outputs": [],
   "source": [
    "#defining a node\n",
    "class node:\n",
    "    def __init__(self,data):\n",
    "        self.prev=None\n",
    "        self.data=data\n",
    "        self.next=None\n",
    "#defining operations on linked list   \n",
    "class linkedlist:\n",
    "    def __init__(self):\n",
    "        self.head=None\n",
    "        self.tail=None\n",
    "        \n",
    "    def printl1(self):\n",
    "        temp=self.head\n",
    "        while(temp):\n",
    "            print(temp.data)\n",
    "            temp=temp.next\n",
    "            \n",
    "    def search(self,L,z):\n",
    "        temp=L.head\n",
    "        while(temp.data!=z):\n",
    "            temp=temp.next\n",
    "        return temp\n",
    "            \n",
    "    def insertatend(self,L,x):\n",
    "        x=node(x)\n",
    "        if L.tail==None:\n",
    "            L.head=x\n",
    "            L.tail=x\n",
    "        else:\n",
    "            L.tail.next=x\n",
    "            x.prev=L.tail\n",
    "            L.tail=x\n",
    "        return L\n",
    "            \n",
    "    def insertafter(self,L,z,x):\n",
    "        x=node(x)\n",
    "        if z==None:\n",
    "            if L.head==None:\n",
    "                L.head=x\n",
    "                L.tail=x\n",
    "            else:\n",
    "                L.head.prev=x\n",
    "                x.next=L.head\n",
    "                L.head=x\n",
    "        else:\n",
    "            if z==L.tail:\n",
    "                x.prev=z\n",
    "                x.next=None\n",
    "                z.next=x\n",
    "                L.tail=x\n",
    "            else:\n",
    "                x.prev=z\n",
    "                x.next=z.next\n",
    "                z.next.prev=x\n",
    "                z.next=x\n",
    "        return L\n",
    "    def delete(self,L,x):\n",
    "        if x.prev is None:\n",
    "            if x.next is None:\n",
    "                L.head=None\n",
    "                L.tail=None\n",
    "            else:\n",
    "                x.next.prev=None\n",
    "                L.head=x.next\n",
    "                x.next=None\n",
    "        else:\n",
    "            if x.next is None:\n",
    "                x.prev.next= None\n",
    "                L.tail=x.prev\n",
    "            else:\n",
    "                x.next.prev=x.prev\n",
    "                x.prev.next=x.next\n",
    "        return L"
   ]
  },
  {
   "cell_type": "code",
   "execution_count": 2,
   "metadata": {},
   "outputs": [],
   "source": [
    "l1=linkedlist()\n",
    "l2=linkedlist()\n",
    "l3=linkedlist()\n",
    "l4=linkedlist()\n",
    "l5=linkedlist()"
   ]
  },
  {
   "cell_type": "code",
   "execution_count": 3,
   "metadata": {},
   "outputs": [],
   "source": [
    "A=[l1,l2,l3,l4,l5]"
   ]
  },
  {
   "cell_type": "code",
   "execution_count": 8,
   "metadata": {},
   "outputs": [],
   "source": [
    "def hashchaininsert(A,x):\n",
    "    N=len(A)\n",
    "    y=x%N\n",
    "    A[y]=A[y].insertatend(A[y],x)\n",
    "    return A"
   ]
  },
  {
   "cell_type": "code",
   "execution_count": 9,
   "metadata": {},
   "outputs": [
    {
     "data": {
      "text/plain": [
       "[<__main__.linkedlist at 0x1f1e07809d0>,\n",
       " <__main__.linkedlist at 0x1f1e0780130>,\n",
       " <__main__.linkedlist at 0x1f1e0775df0>,\n",
       " <__main__.linkedlist at 0x1f1e0775190>,\n",
       " <__main__.linkedlist at 0x1f1e07752e0>]"
      ]
     },
     "execution_count": 9,
     "metadata": {},
     "output_type": "execute_result"
    }
   ],
   "source": [
    "hashchaininsert(A,17)"
   ]
  },
  {
   "cell_type": "code",
   "execution_count": 10,
   "metadata": {},
   "outputs": [
    {
     "data": {
      "text/plain": [
       "17"
      ]
     },
     "execution_count": 10,
     "metadata": {},
     "output_type": "execute_result"
    }
   ],
   "source": [
    "A[2].head.data"
   ]
  },
  {
   "cell_type": "markdown",
   "metadata": {},
   "source": [
    "# HASHING BY PROBING"
   ]
  },
  {
   "cell_type": "code",
   "execution_count": 75,
   "metadata": {},
   "outputs": [],
   "source": [
    "def hashprob(A,x):\n",
    "    N=len(A)\n",
    "    y=x%N\n",
    "    for i in range(N):\n",
    "        if A[y] is None or A[y]=='D':\n",
    "            A[y]=x\n",
    "            break\n",
    "        else:\n",
    "            y=(y+i)%N\n",
    "    return A"
   ]
  },
  {
   "cell_type": "code",
   "execution_count": 79,
   "metadata": {},
   "outputs": [],
   "source": [
    "def hashprobdel(A,x):\n",
    "    N=len(A)\n",
    "    for i in range(N):\n",
    "        if A[i]==x:\n",
    "            A[i]='D'\n",
    "    return A"
   ]
  },
  {
   "cell_type": "code",
   "execution_count": 81,
   "metadata": {},
   "outputs": [
    {
     "data": {
      "text/plain": [
       "[4, 8, None, None]"
      ]
     },
     "execution_count": 81,
     "metadata": {},
     "output_type": "execute_result"
    }
   ],
   "source": [
    "A=[None for i in range(4)]\n",
    "hashprob(A,4)\n",
    "hashprob(A,8)\n",
    "hashprobdel(A,8)\n",
    "hashprob(A,8)"
   ]
  },
  {
   "cell_type": "code",
   "execution_count": null,
   "metadata": {},
   "outputs": [],
   "source": []
  }
 ],
 "metadata": {
  "kernelspec": {
   "display_name": "Python 3",
   "language": "python",
   "name": "python3"
  },
  "language_info": {
   "codemirror_mode": {
    "name": "ipython",
    "version": 3
   },
   "file_extension": ".py",
   "mimetype": "text/x-python",
   "name": "python",
   "nbconvert_exporter": "python",
   "pygments_lexer": "ipython3",
   "version": "3.8.5"
  }
 },
 "nbformat": 4,
 "nbformat_minor": 4
}
