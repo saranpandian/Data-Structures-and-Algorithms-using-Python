{
 "cells": [
  {
   "cell_type": "markdown",
   "metadata": {},
   "source": [
    "# 4(a) insert and delete using arrays"
   ]
  },
  {
   "cell_type": "code",
   "execution_count": 1,
   "metadata": {},
   "outputs": [],
   "source": [
    "def insert(A,a,i):\n",
    "    A.append('\\0')\n",
    "    for j in range(len(A)-1,i,-1):\n",
    "        A[j]=A[j-1]\n",
    "    A[i]=a\n",
    "    return A"
   ]
  },
  {
   "cell_type": "code",
   "execution_count": 2,
   "metadata": {},
   "outputs": [
    {
     "name": "stdout",
     "output_type": "stream",
     "text": [
      "[1, 2, 6, 3, 4, 5]\n"
     ]
    }
   ],
   "source": [
    "A=[1,2,3,4,5]\n",
    "A=insert(A,6,2)\n",
    "print(A)"
   ]
  },
  {
   "cell_type": "code",
   "execution_count": 9,
   "metadata": {},
   "outputs": [],
   "source": [
    "def delete(A,i):\n",
    "    for j in range(i,len(A)-1):\n",
    "        A[j]=A[j+1]\n",
    "    A.pop(len(A)-1)\n",
    "    return A"
   ]
  },
  {
   "cell_type": "code",
   "execution_count": 10,
   "metadata": {},
   "outputs": [
    {
     "name": "stdout",
     "output_type": "stream",
     "text": [
      "[1, 2, 4, 5]\n"
     ]
    }
   ],
   "source": [
    "A=[1,2,3,4,5]\n",
    "A=delete(A,2)\n",
    "print(A)"
   ]
  },
  {
   "cell_type": "markdown",
   "metadata": {},
   "source": [
    "# INSERT DELETE USING LINKED LIST"
   ]
  },
  {
   "cell_type": "code",
   "execution_count": null,
   "metadata": {},
   "outputs": [],
   "source": [
    "#defining a node\n",
    "class node:\n",
    "    def __init__(self,data):\n",
    "        self.prev=None\n",
    "        self.data=data\n",
    "        self.next=None\n",
    "#defining operations on linked list   \n",
    "class linkedlist:\n",
    "    def __init__(self):\n",
    "        self.head=None\n",
    "        self.tail=None\n",
    "        \n",
    "    def printl1(self):\n",
    "        temp=self.head\n",
    "        while(temp):\n",
    "            print(temp.data)\n",
    "            temp=temp.next\n",
    "            \n",
    "    def search(self,L,z):\n",
    "        temp=L.head\n",
    "        while(temp.data!=z):\n",
    "            temp=temp.next\n",
    "        return temp\n",
    "            \n",
    "    def insertatend(self,L,x):\n",
    "        x=node(x)\n",
    "        if L.tail==None:\n",
    "            L.head=x\n",
    "            L.tail=x\n",
    "        else:\n",
    "            L.tail.next=x\n",
    "            x.prev=L.tail\n",
    "            L.tail=x\n",
    "        return L\n",
    "            \n",
    "    def insertafter(self,L,z,x):\n",
    "        x=node(x)\n",
    "        if z==None:\n",
    "            if L.head==None:\n",
    "                L.head=x\n",
    "                L.tail=x\n",
    "            else:\n",
    "                L.head.prev=x\n",
    "                x.next=L.head\n",
    "                L.head=x\n",
    "        else:\n",
    "            if z==L.tail:\n",
    "                x.prev=z\n",
    "                x.next=None\n",
    "                z.next=x\n",
    "                L.tail=x\n",
    "            else:\n",
    "                x.prev=z\n",
    "                x.next=z.next\n",
    "                z.next.prev=x\n",
    "                z.next=x\n",
    "        return L\n",
    "    def delete(self,L,x):\n",
    "        if x.prev is None:\n",
    "            if x.next is None:\n",
    "                L.head=None\n",
    "                L.tail=None\n",
    "            else:\n",
    "                x.next.prev=None\n",
    "                L.head=x.next\n",
    "                x.next=None\n",
    "        else:\n",
    "            if x.next is None:\n",
    "                x.prev.next= None\n",
    "                L.tail=x.prev\n",
    "            else:\n",
    "                x.next.prev=x.prev\n",
    "                x.prev.next=x.next\n",
    "        return L\n",
    "#initialising values of nodes   \n",
    "l1=linkedlist()\n",
    "l1.insertafter(l1,None,2)\n",
    "l1.insertatend(l1,45)\n",
    "x=l1.search(l1,2)\n",
    "l1.insertafter(l1,x,35)\n",
    "y=l1.search(l1,45)\n",
    "l1.delete(l1,y)\n",
    "l1.printl1()"
   ]
  },
  {
   "cell_type": "markdown",
   "metadata": {},
   "source": [
    "# 4(b) QUEUES USING LINKED LIST"
   ]
  },
  {
   "cell_type": "code",
   "execution_count": 31,
   "metadata": {},
   "outputs": [
    {
     "name": "stdout",
     "output_type": "stream",
     "text": [
      "4\n",
      "2\n",
      "35\n"
     ]
    }
   ],
   "source": [
    "class queue(linkedlist):\n",
    "    def enqueue(self,L,x):\n",
    "        L=self.insertafter(L,None,x)\n",
    "    def dequeue(self,L):\n",
    "        L=self.delete(L,L.tail)\n",
    "m=queue()\n",
    "l1=linkedlist()\n",
    "l1.insertafter(l1,None,2)\n",
    "l1.insertatend(l1,45)\n",
    "x=l1.search(l1,2)\n",
    "l1.insertafter(l1,x,35)\n",
    "m.enqueue(l1,4)\n",
    "m.dequeue(l1)\n",
    "l1.printl1()"
   ]
  },
  {
   "cell_type": "markdown",
   "metadata": {},
   "source": [
    "# STACKS USING ARRAYS"
   ]
  },
  {
   "cell_type": "code",
   "execution_count": 11,
   "metadata": {},
   "outputs": [],
   "source": [
    "class stack:\n",
    "    def __init__(self,N):\n",
    "        self.S=[]\n",
    "        self.topS=0\n",
    "        self.N=N\n",
    "def push(s,x):\n",
    "    if s.topS==s.N:\n",
    "        return 'error'\n",
    "    s.S.append(x)\n",
    "    s.topS+=1\n",
    "    return s\n",
    "def pop(s):\n",
    "    if s.topS==0:\n",
    "        return 'error'\n",
    "    x=s.S.pop(s.topS-1)\n",
    "    s.topS-=1\n",
    "    return s,x"
   ]
  },
  {
   "cell_type": "code",
   "execution_count": 12,
   "metadata": {},
   "outputs": [
    {
     "data": {
      "text/plain": [
       "1"
      ]
     },
     "execution_count": 12,
     "metadata": {},
     "output_type": "execute_result"
    }
   ],
   "source": [
    "x=stack(5)\n",
    "x=push(x,1)\n",
    "x=push(x,2)\n",
    "pop(x)\n",
    "pop(x)[1]"
   ]
  },
  {
   "cell_type": "markdown",
   "metadata": {},
   "source": [
    "# 4(c) STACKS USING LINKED LIST"
   ]
  },
  {
   "cell_type": "code",
   "execution_count": 35,
   "metadata": {},
   "outputs": [
    {
     "name": "stdout",
     "output_type": "stream",
     "text": [
      "2\n",
      "35\n",
      "45\n"
     ]
    }
   ],
   "source": [
    "class stack(linkedlist):\n",
    "    def push(self,L,x):\n",
    "        L=self.insertatend(L,x)\n",
    "    def pop(self,L):\n",
    "        L=self.delete(L,L.tail)\n",
    "n=stack()\n",
    "l1=linkedlist()\n",
    "l1.insertafter(l1,None,2)\n",
    "l1.insertatend(l1,45)\n",
    "x=l1.search(l1,2)\n",
    "l1.insertafter(l1,x,35)\n",
    "n.push(l1,4)\n",
    "n.pop(l1)\n",
    "l1.printl1()"
   ]
  },
  {
   "cell_type": "markdown",
   "metadata": {},
   "source": [
    "# QUEUES USING ARRAYS"
   ]
  },
  {
   "cell_type": "code",
   "execution_count": 13,
   "metadata": {},
   "outputs": [],
   "source": [
    "class queue:\n",
    "    def __init__(self,N):\n",
    "        self.S=[]\n",
    "        self.head=0\n",
    "        self.tail=0\n",
    "        self.N=N\n",
    "        self.lastop='dequeue'\n",
    "def enqueue(q,x):\n",
    "    if q.head==q.tail:\n",
    "        if q.lastop=='enqueue':\n",
    "            return 'error'\n",
    "    q.S.append(x)\n",
    "    if q.tail<q.N-1:\n",
    "        q.tail+=1\n",
    "    else:\n",
    "        q.tail=0\n",
    "    lastop='enqueue'\n",
    "    return q\n",
    "def dequeue(q):\n",
    "    if q.head==q.tail:\n",
    "        if q.lastop=='dequeue':\n",
    "            return 'error'\n",
    "    x=q.S.pop(q.head)\n",
    "    if len(q.S)==q.N-1:\n",
    "        q.head=0\n",
    "    lastop='dequeue'\n",
    "    return q.S,x"
   ]
  },
  {
   "cell_type": "code",
   "execution_count": null,
   "metadata": {},
   "outputs": [],
   "source": [
    "q=queue(5)\n",
    "n=enqueue(q,5)\n",
    "n=enqueue(q,6)\n",
    "n=dequeue(q)\n",
    "n=dequeue(q)\n",
    "print(q.S)"
   ]
  }
 ],
 "metadata": {
  "kernelspec": {
   "display_name": "Python 3",
   "language": "python",
   "name": "python3"
  },
  "language_info": {
   "codemirror_mode": {
    "name": "ipython",
    "version": 3
   },
   "file_extension": ".py",
   "mimetype": "text/x-python",
   "name": "python",
   "nbconvert_exporter": "python",
   "pygments_lexer": "ipython3",
   "version": "3.8.5"
  }
 },
 "nbformat": 4,
 "nbformat_minor": 4
}
