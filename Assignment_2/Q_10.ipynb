{
 "cells": [
  {
   "cell_type": "markdown",
   "metadata": {},
   "source": [
    "# GRAPH REPRESENTATION USING MATRIX"
   ]
  },
  {
   "cell_type": "code",
   "execution_count": 14,
   "metadata": {},
   "outputs": [
    {
     "name": "stdout",
     "output_type": "stream",
     "text": [
      "enter the number of states: 2\n",
      "enter the values rowwise\n",
      "the link of state from 1 to 1 :\n",
      "0\n",
      "the link of state from 1 to 2 :\n",
      "1\n",
      "the link of state from 2 to 1 :\n",
      "1\n",
      "the link of state from 2 to 2 :\n",
      "0\n",
      "[[0, 1], [1, 0]]\n"
     ]
    }
   ],
   "source": [
    "N=int(input(\"enter the number of states: \"))\n",
    "A=[]\n",
    "print(\"enter the values rowwise\")\n",
    "for i in range(1,N+1):\n",
    "    a=[]\n",
    "    for j in range(1,N+1):\n",
    "        txtx=\"the link of state from {nodex} to {nodey} :\".format(nodex=i,nodey=j) \n",
    "        print(txtx)\n",
    "        prob=int(input())\n",
    "        a.append(prob)\n",
    "    A.append(a)\n",
    "print(A)"
   ]
  },
  {
   "cell_type": "markdown",
   "metadata": {},
   "source": [
    "# BFS TREE"
   ]
  },
  {
   "cell_type": "code",
   "execution_count": null,
   "metadata": {},
   "outputs": [],
   "source": [
    "#defining a node\n",
    "class node:\n",
    "    def __init__(self,data):\n",
    "        self.prev=None\n",
    "        self.data=data\n",
    "        self.next=None\n",
    "#defining operations on linked list   \n",
    "class linkedlist:\n",
    "    def __init__(self):\n",
    "        self.head=None\n",
    "        self.tail=None\n",
    "            \n",
    "    def insertatend(self,L,x):\n",
    "        x=node(x)\n",
    "        if L.tail==None:\n",
    "            L.head=x\n",
    "            L.tail=x\n",
    "        else:\n",
    "            L.tail.next=x\n",
    "            x.prev=L.tail\n",
    "            L.tail=x\n",
    "        return L"
   ]
  },
  {
   "cell_type": "code",
   "execution_count": 4,
   "metadata": {},
   "outputs": [],
   "source": [
    "class gnode:\n",
    "    def __init__(self,val):\n",
    "        self.val=val\n",
    "        self.color='white'\n",
    "        self.dep=None\n",
    "        self.parent=None"
   ]
  },
  {
   "cell_type": "code",
   "execution_count": 5,
   "metadata": {},
   "outputs": [],
   "source": [
    "def bfs(G,g,s):\n",
    "    Q=[]\n",
    "    Q.append(s)\n",
    "    G[s].dep=0\n",
    "    col=[]\n",
    "    col1=[]\n",
    "    col2=[]\n",
    "    while(Q!=[]):\n",
    "        x=Q.pop(0)\n",
    "        col.append(G[x].val)\n",
    "        col2.append(G[x].dep)\n",
    "        while(g[x].head.next!=None):\n",
    "            if G[g[x].head.next.data].color=='white':\n",
    "                G[g[x].head.next.data].dep=G[x].dep+1\n",
    "                Q.append(g[x].head.next.data)\n",
    "                G[g[x].head.next.data].color='grey'\n",
    "                G[g[x].head.next.data].parent=G[x]\n",
    "            g[x].head=g[x].head.next\n",
    "        G[x].color='black'\n",
    "    return col"
   ]
  },
  {
   "cell_type": "markdown",
   "metadata": {},
   "source": [
    "# GRAPH REPRESENTATION USING LINKED LIST"
   ]
  },
  {
   "cell_type": "code",
   "execution_count": 6,
   "metadata": {},
   "outputs": [],
   "source": [
    "N1=gnode(25)\n",
    "N2=gnode(50)\n",
    "N3=gnode(40)\n",
    "N4=gnode(30)\n",
    "#l1\n",
    "l1=linkedlist()\n",
    "l1.insertatend(l1,0)\n",
    "l1.insertatend(l1,1)\n",
    "l1.insertatend(l1,2)\n",
    "#l2\n",
    "l2=linkedlist()\n",
    "l2.insertatend(l2,1)\n",
    "l2.insertatend(l2,0)\n",
    "l2.insertatend(l2,3)\n",
    "#l3\n",
    "l3=linkedlist()\n",
    "l3.insertatend(l3,2)\n",
    "l3.insertatend(l3,0)\n",
    "l3.insertatend(l3,3)\n",
    "#l4\n",
    "l4=linkedlist()\n",
    "l4.insertatend(l4,3)\n",
    "l4.insertatend(l4,1)\n",
    "l4.insertatend(l4,2)\n",
    "g=[l1,l2,l3,l4]\n",
    "G=[N1,N2,N3,N4]"
   ]
  },
  {
   "cell_type": "code",
   "execution_count": 7,
   "metadata": {
    "scrolled": false
   },
   "outputs": [
    {
     "name": "stdout",
     "output_type": "stream",
     "text": [
      "[50, 25, 30, 40]\n"
     ]
    }
   ],
   "source": [
    "x=bfs(G,g,1)\n",
    "print(x)"
   ]
  },
  {
   "cell_type": "markdown",
   "metadata": {},
   "source": [
    "# FINDING DISCONNECTED GRAPH USING DFS"
   ]
  },
  {
   "cell_type": "code",
   "execution_count": 11,
   "metadata": {},
   "outputs": [
    {
     "name": "stdout",
     "output_type": "stream",
     "text": [
      "connected\n"
     ]
    }
   ],
   "source": [
    "result='connected'\n",
    "for i in range(len(G)):\n",
    "    if G[i].color=='white':\n",
    "        result='disconnected'\n",
    "        break\n",
    "print(result)"
   ]
  },
  {
   "cell_type": "markdown",
   "metadata": {},
   "source": [
    "# DFS TREE TRAVERSAL"
   ]
  },
  {
   "cell_type": "code",
   "execution_count": 1,
   "metadata": {},
   "outputs": [
    {
     "name": "stdout",
     "output_type": "stream",
     "text": [
      "*****************************************\n",
      "Node: A Depth: 0\n",
      "Node: B Depth: 1\n",
      "Node: C Depth: 2\n",
      "Node: D Depth: 2\n"
     ]
    }
   ],
   "source": [
    "ref = []\n",
    "#global time\n",
    "\n",
    "class Node():\n",
    "    def __init__(self, data=None):\n",
    "        self.data=data\n",
    "        self.join=[]\n",
    "        self.depth=None\n",
    "        self.parent=None\n",
    "        self.color='White'\n",
    "        #self.timstamp=[]\n",
    "\n",
    "def sortRef(ref):\n",
    "    for i in ref:\n",
    "        for j in ref:\n",
    "            if i.data > j.data:\n",
    "                i,j = j,i\n",
    "\n",
    "\n",
    "def joins(x,y):\n",
    "    x.join.append(y)\n",
    "    y.join.append(x)\n",
    "    if x not in ref:\n",
    "        ref.append(x)\n",
    "    if y not in ref:\n",
    "        ref.append(y)\n",
    "   #sortRef(ref)\n",
    "    return\n",
    "\n",
    "def look(arb):\n",
    "    #print(arb.data)\n",
    "    for x in arb.join:\n",
    "        print(x.data)\n",
    "\n",
    "def DFS(source):\n",
    "    #global time\n",
    "    time = 0\n",
    "    source.depth = 0\n",
    "    v = source\n",
    "    #v.join.sort()\n",
    "    for i in v.join:\n",
    "        if i.color == 'White':\n",
    "            v.color = 'Grey'\n",
    "            #global time \n",
    "            time += 1\n",
    "            #global time\n",
    "            i.depth=time\n",
    "            #i.parent = v\n",
    "            for u in i.join:\n",
    "                if u.color == 'White':\n",
    "                    u.parent = v\n",
    "                    i.color = 'Grey'\n",
    "                    dfsVisit(u, time)\n",
    "            i.color='Black'\n",
    "            #global time \n",
    "            #time += 1\n",
    "    v.color='Black'\n",
    "    for c in ref:\n",
    "        if c.color == 'Black':\n",
    "            pass\n",
    "        else:\n",
    "            dfsVisit(c, time)\n",
    "    \n",
    "\n",
    "def dfsVisit(x, time):\n",
    "    #global time \n",
    "    if x.join is not None:\n",
    "        time += 1\n",
    "        x.depth = time\n",
    "        x.color = 'Grey'\n",
    "        for y in x.join:\n",
    "            if y.color == 'White':\n",
    "                y.parent = x\n",
    "                dfsVisit(y, time)\n",
    "        time += 1\n",
    "        x.color = 'Black'\n",
    "    else:\n",
    "        return\n",
    "\n",
    "x=Node('A')\n",
    "y=Node('B')\n",
    "z=Node('C')\n",
    "w=Node('D')\n",
    "joins(x,y)\n",
    "joins(y,z)\n",
    "joins(x,w)\n",
    "#joins(z,w)\n",
    "#print(x.join.data)\n",
    "#look(x)\n",
    "\n",
    "DFS(x)\n",
    "print(\"*****************************************\")\n",
    "for i in ref:\n",
    "    print(\"Node:\", i.data, \"Depth:\", i.depth)# \"Parent:\", i.parent)\n",
    "\n",
    "#DFS(x)"
   ]
  },
  {
   "cell_type": "code",
   "execution_count": null,
   "metadata": {},
   "outputs": [],
   "source": []
  }
 ],
 "metadata": {
  "kernelspec": {
   "display_name": "Python 3",
   "language": "python",
   "name": "python3"
  },
  "language_info": {
   "codemirror_mode": {
    "name": "ipython",
    "version": 3
   },
   "file_extension": ".py",
   "mimetype": "text/x-python",
   "name": "python",
   "nbconvert_exporter": "python",
   "pygments_lexer": "ipython3",
   "version": "3.8.5"
  }
 },
 "nbformat": 4,
 "nbformat_minor": 4
}
